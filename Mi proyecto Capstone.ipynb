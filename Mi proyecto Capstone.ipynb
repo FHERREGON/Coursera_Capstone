{
 "cells": [
  {
   "cell_type": "markdown",
   "id": "beneficial-gather",
   "metadata": {},
   "source": [
    "# <center> Mi Proyecto Capstone </center>"
   ]
  },
  {
   "cell_type": "markdown",
   "id": "systematic-pollution",
   "metadata": {},
   "source": [
    "#### <center><i> Francisco Herrera González </i></center> "
   ]
  },
  {
   "cell_type": "markdown",
   "id": "intimate-harrison",
   "metadata": {},
   "source": [
    "Este proyecto forma parte del **trabajo final** para el certificado profesional de **Ciencia de Datos** de **IBM**. \n",
    "\n",
    "En él, abordaremos la temática de *\"La Batalla de los Vecindarios\"*, en el cuál usaremos datos de localización para agrupar diferentes carácterísticas dentro de diferentes barrios."
   ]
  },
  {
   "cell_type": "code",
   "execution_count": 1,
   "id": "nuclear-ukraine",
   "metadata": {},
   "outputs": [
    {
     "name": "stdout",
     "output_type": "stream",
     "text": [
      "¡Hola, Proyecto Final del Curso!\n"
     ]
    }
   ],
   "source": [
    "#Empezamos importando algunas librerías básicas e imprimiendo un mensaje de bienvenida:\n",
    "\n",
    "import pandas as pd\n",
    "import numpy as np\n",
    "\n",
    "print(\"¡Hola, Proyecto Final del Curso!\")"
   ]
  },
  {
   "cell_type": "code",
   "execution_count": null,
   "id": "inclusive-cooler",
   "metadata": {},
   "outputs": [],
   "source": []
  }
 ],
 "metadata": {
  "kernelspec": {
   "display_name": "Python 3",
   "language": "python",
   "name": "python3"
  },
  "language_info": {
   "codemirror_mode": {
    "name": "ipython",
    "version": 3
   },
   "file_extension": ".py",
   "mimetype": "text/x-python",
   "name": "python",
   "nbconvert_exporter": "python",
   "pygments_lexer": "ipython3",
   "version": "3.9.2"
  }
 },
 "nbformat": 4,
 "nbformat_minor": 5
}
